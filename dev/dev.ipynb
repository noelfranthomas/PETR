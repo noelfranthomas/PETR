{
 "cells": [
  {
   "cell_type": "code",
   "execution_count": 1,
   "metadata": {},
   "outputs": [
    {
     "ename": "ModuleNotFoundError",
     "evalue": "No module named 'chromadb'",
     "output_type": "error",
     "traceback": [
      "\u001b[0;31m---------------------------------------------------------------------------\u001b[0m",
      "\u001b[0;31mModuleNotFoundError\u001b[0m                       Traceback (most recent call last)",
      "Cell \u001b[0;32mIn[1], line 1\u001b[0m\n\u001b[0;32m----> 1\u001b[0m \u001b[39mimport\u001b[39;00m \u001b[39mchromadb\u001b[39;00m\n\u001b[1;32m      2\u001b[0m chroma_client \u001b[39m=\u001b[39m chromadb\u001b[39m.\u001b[39mClient()\n",
      "\u001b[0;31mModuleNotFoundError\u001b[0m: No module named 'chromadb'"
     ]
    }
   ],
   "source": [
    "import chromadb\n",
    "chroma_client = chromadb.Client()"
   ]
  },
  {
   "cell_type": "code",
   "execution_count": null,
   "metadata": {},
   "outputs": [
    {
     "name": "stderr",
     "output_type": "stream",
     "text": [
      "/Users/noelthomas/Desktop/chat-langchain-master/test_venv/lib/python3.9/site-packages/tqdm/auto.py:22: TqdmWarning: IProgress not found. Please update jupyter and ipywidgets. See https://ipywidgets.readthedocs.io/en/stable/user_install.html\n",
      "  from .autonotebook import tqdm as notebook_tqdm\n",
      "Downloading (…)e9125/.gitattributes: 100%|██████████| 1.18k/1.18k [00:00<00:00, 318kB/s]\n",
      "Downloading (…)_Pooling/config.json: 100%|██████████| 190/190 [00:00<00:00, 85.6kB/s]\n",
      "Downloading (…)7e55de9125/README.md: 100%|██████████| 10.6k/10.6k [00:00<00:00, 5.23MB/s]\n",
      "Downloading (…)55de9125/config.json: 100%|██████████| 612/612 [00:00<00:00, 313kB/s]\n",
      "Downloading (…)ce_transformers.json: 100%|██████████| 116/116 [00:00<00:00, 45.9kB/s]\n",
      "Downloading (…)125/data_config.json: 100%|██████████| 39.3k/39.3k [00:00<00:00, 291kB/s]\n",
      "Downloading (…)\"pytorch_model.bin\";: 100%|██████████| 90.9M/90.9M [00:04<00:00, 21.7MB/s]\n",
      "Downloading (…)nce_bert_config.json: 100%|██████████| 53.0/53.0 [00:00<00:00, 50.2kB/s]\n",
      "Downloading (…)cial_tokens_map.json: 100%|██████████| 112/112 [00:00<00:00, 103kB/s]\n",
      "Downloading (…)e9125/tokenizer.json: 100%|██████████| 466k/466k [00:00<00:00, 1.08MB/s]\n",
      "Downloading (…)okenizer_config.json: 100%|██████████| 350/350 [00:00<00:00, 330kB/s]\n",
      "Downloading (…)9125/train_script.py: 100%|██████████| 13.2k/13.2k [00:00<00:00, 8.95MB/s]\n",
      "Downloading (…)7e55de9125/vocab.txt: 100%|██████████| 232k/232k [00:00<00:00, 777kB/s]\n",
      "Downloading (…)5de9125/modules.json: 100%|██████████| 349/349 [00:00<00:00, 322kB/s]\n"
     ]
    }
   ],
   "source": [
    "collection = chroma_client.create_collection(name=\"PETR_vectorstore\")"
   ]
  },
  {
   "cell_type": "code",
   "execution_count": null,
   "metadata": {},
   "outputs": [
    {
     "name": "stdout",
     "output_type": "stream",
     "text": [
      "ears-nose-and-throat\n",
      "skin-hair-and-nails\n",
      "blood-and-lymph\n",
      "glands\n",
      "immune-system\n",
      "surviving-suicidal-thoughts\n",
      "nutritional\n",
      "sexual-and-reproductive\n",
      "cancer-types-in-children\n",
      "mouth\n",
      "infections-and-poisoning\n",
      "cancer-types-in-teenagers-and-young-adults\n",
      "brain-nerves-and-spinal-cord\n",
      "pregnancy-and-childbirth\n",
      "diabetes\n",
      "kidneys-bladder-and-prostate\n",
      "healthy-living\n",
      "conditions\n",
      "downs-syndrome\n",
      "cancer-types-in-adults\n",
      "periods-and-menstrual-health\n",
      "mental-health\n",
      "illnesses-and-conditions\n",
      "coeliac-disease\n",
      "copd\n",
      "eyes\n",
      "skin-injuries\n",
      "stomach-liver-and-gastrointestinal-tract\n",
      "lungs-and-airways\n"
     ]
    }
   ],
   "source": [
    "import os\n",
    "categories = next(os.walk('/Users/noelthomas/Documents/GitHub/PETR/data/'))[1]\n",
    "\n",
    "for category in categories:\n",
    "    print(category)\n",
    "    files = os.listdir(f'/Users/noelthomas/Documents/GitHub/PETR/data/{category}')\n",
    "\n",
    "    fullpaths = [f'/Users/noelthomas/Documents/GitHub/PETR/data/{category}/{file}' for file in files]\n",
    "    \n",
    "    collection.add(documents=fullpaths, metadatas=[{'category': category}]*len(files), ids=files)"
   ]
  },
  {
   "cell_type": "code",
   "execution_count": null,
   "metadata": {},
   "outputs": [],
   "source": []
  },
  {
   "cell_type": "code",
   "execution_count": null,
   "metadata": {},
   "outputs": [],
   "source": [
    "# path = '/Users/noelthomas/Documents/GitHub/PETR/data/'\n",
    "\n",
    "# copd='copd/chronic-obstructive-pulmonary-disease.md'\n",
    "# alz='brain-nerves-and-spinal-cord/alzheimers-disease.md'\n",
    "# conj='eyes/conjunctivitis.md'\n",
    "\n",
    "# collection.add(documents = [path+'blood-and-lymph/deep-vein-thrombosis.md'], ids=['thromb'])\n",
    "# collection.add(documents = [path+copd, path+alz, path+conj], ids=['copd', 'alz', 'conj'])"
   ]
  },
  {
   "cell_type": "code",
   "execution_count": null,
   "metadata": {},
   "outputs": [
    {
     "data": {
      "text/plain": [
       "[['reactive-arthritis.md',\n",
       "  'polymyalgia-rheumatica.md',\n",
       "  'psoriatic-arthritis.md',\n",
       "  'arthritis.md',\n",
       "  'rheumatoid-arthritis.md']]"
      ]
     },
     "execution_count": 49,
     "metadata": {},
     "output_type": "execute_result"
    }
   ],
   "source": [
    "results = collection.query(\n",
    "    query_texts=[\"joint pain\"],\n",
    "    n_results=5\n",
    ")\n",
    "results['ids']"
   ]
  }
 ],
 "metadata": {
  "kernelspec": {
   "display_name": "p_venv",
   "language": "python",
   "name": "python3"
  },
  "language_info": {
   "codemirror_mode": {
    "name": "ipython",
    "version": 3
   },
   "file_extension": ".py",
   "mimetype": "text/x-python",
   "name": "python",
   "nbconvert_exporter": "python",
   "pygments_lexer": "ipython3",
   "version": "3.9.6"
  },
  "orig_nbformat": 4,
  "vscode": {
   "interpreter": {
    "hash": "e126cc994075471a0a57e21e1a3d278fd954c3053df73225d938ae9ed5cc82c0"
   }
  }
 },
 "nbformat": 4,
 "nbformat_minor": 2
}
